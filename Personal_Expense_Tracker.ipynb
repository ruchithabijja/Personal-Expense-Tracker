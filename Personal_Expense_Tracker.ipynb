{
  "nbformat": 4,
  "nbformat_minor": 0,
  "metadata": {
    "colab": {
      "provenance": [],
      "authorship_tag": "ABX9TyPJcCMBvT93sDpFafy/OSf3",
      "include_colab_link": true
    },
    "kernelspec": {
      "name": "python3",
      "display_name": "Python 3"
    },
    "language_info": {
      "name": "python"
    }
  },
  "cells": [
    {
      "cell_type": "markdown",
      "metadata": {
        "id": "view-in-github",
        "colab_type": "text"
      },
      "source": [
        "<a href=\"https://colab.research.google.com/github/ruchithabijja/Personal-Expense-Tracker/blob/main/Personal_Expense_Tracker.ipynb\" target=\"_parent\"><img src=\"https://colab.research.google.com/assets/colab-badge.svg\" alt=\"Open In Colab\"/></a>"
      ]
    },
    {
      "cell_type": "markdown",
      "source": [
        "Personal Expense Tracker\n",
        "Description: Developed a command-line application for users to manage and track their personal expenses across different categories.\n",
        "\n",
        "Technologies Used: Python\n",
        "\n",
        "Key Features:\n",
        "\n",
        "Implemented user input handling to allow users to:\n",
        "Add expenses under various categories.\n",
        "View a summary of total expenses for each category.\n",
        "Utilized a class-based architecture to maintain clean, reusable, and organized code.\n",
        "Handled input validation and error checking to ensure user-friendly interaction.\n",
        "Displayed an interactive main menu to guide users through the application's functionalities.\n",
        "Outcome: Provided users with an efficient way to track and manage their personal expenses, demonstrating my ability to build structured, user-friendly command-line applications in Python.\n",
        "\n"
      ],
      "metadata": {
        "id": "DQenOee-_NC9"
      }
    },
    {
      "cell_type": "code",
      "execution_count": null,
      "metadata": {
        "colab": {
          "base_uri": "https://localhost:8080/"
        },
        "id": "dlq0XcnNWJql",
        "outputId": "88284c31-2ecc-4864-9159-73d6648b847d"
      },
      "outputs": [
        {
          "output_type": "stream",
          "name": "stdout",
          "text": [
            "\n",
            "Personal Expense Tracker\n",
            "1. Add an Expense\n",
            "2. View Expenses\n",
            "3. Exit\n",
            "Choose an option (1-3): 3\n",
            "Exiting the expense tracker. Goodbye!\n"
          ]
        }
      ],
      "source": [
        "# Personal Expense Tracker\n",
        "\n",
        "class ExpenseTracker:\n",
        "    def __init__(self):\n",
        "        # Initialize an empty dictionary to store expenses by category\n",
        "        self.expenses = {}\n",
        "\n",
        "    def add_expense(self, category, amount):\n",
        "        # If the category already exists, add to its total\n",
        "        if category in self.expenses:\n",
        "            self.expenses[category] += amount\n",
        "        else:\n",
        "            # Otherwise, create a new category and add the amount\n",
        "            self.expenses[category] = amount\n",
        "\n",
        "    def view_expenses(self):\n",
        "        # If no expenses are recorded, display a message\n",
        "        if not self.expenses:\n",
        "            print(\"No expenses recorded.\")\n",
        "        else:\n",
        "            # Display the total expenses for each category\n",
        "            print(\"\\n--- Expense Summary ---\")\n",
        "            for category, total in self.expenses.items():\n",
        "                print(f\"{category}: Rs{total:.2f}\")\n",
        "            print(\"-----------------------\")\n",
        "\n",
        "    def main_menu(self):\n",
        "        while True:\n",
        "            print(\"\\nPersonal Expense Tracker\")\n",
        "            print(\"1. Add an Expense\")\n",
        "            print(\"2. View Expenses\")\n",
        "            print(\"3. Exit\")\n",
        "            choice = input(\"Choose an option (1-3): \").strip()\n",
        "\n",
        "            if choice == '1':\n",
        "                category = input(\"Enter the category: \").strip()\n",
        "                amount = float(input(\"Enter the amount: \").strip())\n",
        "                self.add_expense(category, amount)\n",
        "                print(f\"Added ${amount:.2f} to {category}.\")\n",
        "\n",
        "            elif choice == '2':\n",
        "                self.view_expenses()\n",
        "\n",
        "            elif choice == '3':\n",
        "                print(\"Exiting the expense tracker. Goodbye!\")\n",
        "                break\n",
        "\n",
        "            else:\n",
        "                print(\"Invalid choice. Please try again.\")\n",
        "\n",
        "# Run the program\n",
        "if __name__ == \"__main__\":\n",
        "    tracker = ExpenseTracker()\n",
        "    tracker.main_menu()\n"
      ]
    }
  ]
}